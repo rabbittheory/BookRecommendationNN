{
 "cells": [
  {
   "cell_type": "code",
   "execution_count": 1,
   "id": "0f7d9223-5860-40e7-865e-96c9c1e28f4e",
   "metadata": {},
   "outputs": [],
   "source": [
    "import pandas as pd\n",
    "import numpy as np\n",
    "from sklearn.model_selection import train_test_split\n",
    "import torch\n",
    "from torch.utils.data import Dataset, DataLoader\n",
    "import torch.nn as nn\n",
    "import torch.optim as optim\n",
    "import random\n",
    "import torch.nn.functional as F\n",
    "from sklearn.preprocessing import MinMaxScaler, StandardScaler\n",
    "from sklearn.cluster import KMeans\n",
    "import matplotlib.pyplot as plt"
   ]
  },
  {
   "cell_type": "code",
   "execution_count": 2,
   "id": "4e774489-9e21-4f52-ad11-9154ad1c4205",
   "metadata": {},
   "outputs": [],
   "source": [
    "df = pd.read_csv('./Books_Data_Clean.csv')"
   ]
  },
  {
   "cell_type": "code",
   "execution_count": 3,
   "id": "f923f7e7-1468-46d5-9bba-2715bd688707",
   "metadata": {},
   "outputs": [
    {
     "data": {
      "text/plain": [
       "Index(['Publishing Year', 'Book Name', 'Author', 'language_code',\n",
       "       'Author_Rating', 'Book_average_rating', 'Book_ratings_count', 'genre',\n",
       "       'gross sales', 'publisher revenue', 'sale price', 'sales rank',\n",
       "       'Publisher ', 'units sold'],\n",
       "      dtype='object')"
      ]
     },
     "execution_count": 3,
     "metadata": {},
     "output_type": "execute_result"
    }
   ],
   "source": [
    "df.columns"
   ]
  },
  {
   "cell_type": "code",
   "execution_count": 4,
   "id": "141f95f5-a5a2-48a5-926c-6e1acca9261b",
   "metadata": {},
   "outputs": [
    {
     "data": {
      "text/html": [
       "<div>\n",
       "<style scoped>\n",
       "    .dataframe tbody tr th:only-of-type {\n",
       "        vertical-align: middle;\n",
       "    }\n",
       "\n",
       "    .dataframe tbody tr th {\n",
       "        vertical-align: top;\n",
       "    }\n",
       "\n",
       "    .dataframe thead th {\n",
       "        text-align: right;\n",
       "    }\n",
       "</style>\n",
       "<table border=\"1\" class=\"dataframe\">\n",
       "  <thead>\n",
       "    <tr style=\"text-align: right;\">\n",
       "      <th></th>\n",
       "      <th>Publishing Year</th>\n",
       "      <th>Book Name</th>\n",
       "      <th>Author</th>\n",
       "      <th>language_code</th>\n",
       "      <th>Author_Rating</th>\n",
       "      <th>Book_average_rating</th>\n",
       "      <th>Book_ratings_count</th>\n",
       "      <th>genre</th>\n",
       "      <th>gross sales</th>\n",
       "      <th>publisher revenue</th>\n",
       "      <th>sale price</th>\n",
       "      <th>sales rank</th>\n",
       "      <th>Publisher</th>\n",
       "      <th>units sold</th>\n",
       "    </tr>\n",
       "  </thead>\n",
       "  <tbody>\n",
       "    <tr>\n",
       "      <th>0</th>\n",
       "      <td>1975.0</td>\n",
       "      <td>Beowulf</td>\n",
       "      <td>Unknown, Seamus Heaney</td>\n",
       "      <td>en-US</td>\n",
       "      <td>Novice</td>\n",
       "      <td>3.42</td>\n",
       "      <td>155903</td>\n",
       "      <td>genre fiction</td>\n",
       "      <td>34160.0</td>\n",
       "      <td>20496.0</td>\n",
       "      <td>4.88</td>\n",
       "      <td>1</td>\n",
       "      <td>HarperCollins Publishers</td>\n",
       "      <td>7000</td>\n",
       "    </tr>\n",
       "    <tr>\n",
       "      <th>1</th>\n",
       "      <td>1987.0</td>\n",
       "      <td>Batman: Year One</td>\n",
       "      <td>Frank Miller, David Mazzucchelli, Richmond Lew...</td>\n",
       "      <td>eng</td>\n",
       "      <td>Intermediate</td>\n",
       "      <td>4.23</td>\n",
       "      <td>145267</td>\n",
       "      <td>genre fiction</td>\n",
       "      <td>12437.5</td>\n",
       "      <td>7462.5</td>\n",
       "      <td>1.99</td>\n",
       "      <td>2</td>\n",
       "      <td>HarperCollins Publishers</td>\n",
       "      <td>6250</td>\n",
       "    </tr>\n",
       "    <tr>\n",
       "      <th>2</th>\n",
       "      <td>2015.0</td>\n",
       "      <td>Go Set a Watchman</td>\n",
       "      <td>Harper Lee</td>\n",
       "      <td>eng</td>\n",
       "      <td>Novice</td>\n",
       "      <td>3.31</td>\n",
       "      <td>138669</td>\n",
       "      <td>genre fiction</td>\n",
       "      <td>47795.0</td>\n",
       "      <td>28677.0</td>\n",
       "      <td>8.69</td>\n",
       "      <td>3</td>\n",
       "      <td>Amazon Digital Services,  Inc.</td>\n",
       "      <td>5500</td>\n",
       "    </tr>\n",
       "    <tr>\n",
       "      <th>3</th>\n",
       "      <td>2008.0</td>\n",
       "      <td>When You Are Engulfed in Flames</td>\n",
       "      <td>David Sedaris</td>\n",
       "      <td>en-US</td>\n",
       "      <td>Intermediate</td>\n",
       "      <td>4.04</td>\n",
       "      <td>150898</td>\n",
       "      <td>fiction</td>\n",
       "      <td>41250.0</td>\n",
       "      <td>24750.0</td>\n",
       "      <td>7.50</td>\n",
       "      <td>3</td>\n",
       "      <td>Hachette Book Group</td>\n",
       "      <td>5500</td>\n",
       "    </tr>\n",
       "    <tr>\n",
       "      <th>4</th>\n",
       "      <td>2011.0</td>\n",
       "      <td>Daughter of Smoke &amp; Bone</td>\n",
       "      <td>Laini Taylor</td>\n",
       "      <td>eng</td>\n",
       "      <td>Intermediate</td>\n",
       "      <td>4.04</td>\n",
       "      <td>198283</td>\n",
       "      <td>genre fiction</td>\n",
       "      <td>37952.5</td>\n",
       "      <td>22771.5</td>\n",
       "      <td>7.99</td>\n",
       "      <td>4</td>\n",
       "      <td>Penguin Group (USA) LLC</td>\n",
       "      <td>4750</td>\n",
       "    </tr>\n",
       "  </tbody>\n",
       "</table>\n",
       "</div>"
      ],
      "text/plain": [
       "   Publishing Year                        Book Name  \\\n",
       "0           1975.0                          Beowulf   \n",
       "1           1987.0                 Batman: Year One   \n",
       "2           2015.0                Go Set a Watchman   \n",
       "3           2008.0  When You Are Engulfed in Flames   \n",
       "4           2011.0         Daughter of Smoke & Bone   \n",
       "\n",
       "                                              Author language_code  \\\n",
       "0                             Unknown, Seamus Heaney         en-US   \n",
       "1  Frank Miller, David Mazzucchelli, Richmond Lew...           eng   \n",
       "2                                         Harper Lee           eng   \n",
       "3                                      David Sedaris         en-US   \n",
       "4                                       Laini Taylor           eng   \n",
       "\n",
       "  Author_Rating  Book_average_rating  Book_ratings_count          genre  \\\n",
       "0        Novice                 3.42              155903  genre fiction   \n",
       "1  Intermediate                 4.23              145267  genre fiction   \n",
       "2        Novice                 3.31              138669  genre fiction   \n",
       "3  Intermediate                 4.04              150898        fiction   \n",
       "4  Intermediate                 4.04              198283  genre fiction   \n",
       "\n",
       "   gross sales  publisher revenue  sale price  sales rank  \\\n",
       "0      34160.0            20496.0        4.88           1   \n",
       "1      12437.5             7462.5        1.99           2   \n",
       "2      47795.0            28677.0        8.69           3   \n",
       "3      41250.0            24750.0        7.50           3   \n",
       "4      37952.5            22771.5        7.99           4   \n",
       "\n",
       "                       Publisher   units sold  \n",
       "0        HarperCollins Publishers        7000  \n",
       "1        HarperCollins Publishers        6250  \n",
       "2  Amazon Digital Services,  Inc.        5500  \n",
       "3             Hachette Book Group        5500  \n",
       "4         Penguin Group (USA) LLC        4750  "
      ]
     },
     "execution_count": 4,
     "metadata": {},
     "output_type": "execute_result"
    }
   ],
   "source": [
    "df = df.drop_duplicates(subset='Book Name', keep='first')\n",
    "df.head()"
   ]
  },
  {
   "cell_type": "code",
   "execution_count": 5,
   "id": "8dc107a3-178a-4f30-9cba-89c7628ce078",
   "metadata": {},
   "outputs": [
    {
     "data": {
      "text/plain": [
       "{'ara', 'eng', 'fre', nan, 'nl', 'spa'}"
      ]
     },
     "execution_count": 5,
     "metadata": {},
     "output_type": "execute_result"
    }
   ],
   "source": [
    "df=df.drop(['Publishing Year','Author_Rating','sale price','gross sales','publisher revenue','Publisher '], axis=1)\n",
    "df['language_code'] = df['language_code'].replace(['en-GB','en-US','en-CA'], 'eng')\n",
    "set(df.get('language_code'))"
   ]
  },
  {
   "cell_type": "code",
   "execution_count": 6,
   "id": "ee0a1f46-42f5-434f-ace1-40c1d42a36e9",
   "metadata": {},
   "outputs": [
    {
     "data": {
      "text/plain": [
       "{'ara', 'eng', 'fre', 'nl', 'spa'}"
      ]
     },
     "execution_count": 6,
     "metadata": {},
     "output_type": "execute_result"
    }
   ],
   "source": [
    "# Drop all rows where any column has a NaN value\n",
    "df_cleaned = df.dropna()\n",
    "# If you want to reset the index after dropping rows\n",
    "df_cleaned = df_cleaned.reset_index(drop=True)\n",
    "df=df_cleaned\n",
    "set(df.get('language_code'))"
   ]
  },
  {
   "cell_type": "code",
   "execution_count": 7,
   "id": "b03615ab-6e04-42e6-ac78-25b160ce1075",
   "metadata": {},
   "outputs": [],
   "source": [
    "book_id_to_name = dict(zip(df['Book Name'].astype('category').cat.codes, df['Book Name']))\n",
    "\n",
    "df['Book Name'] = df['Book Name'].astype('category').cat.codes\n",
    "df['Author'] = df['Author'].astype('category').cat.codes\n",
    "df['language_code'] = df['language_code'].astype('category').cat.codes\n",
    "df['genre'] = df['genre'].astype('category').cat.codes"
   ]
  },
  {
   "cell_type": "code",
   "execution_count": 8,
   "id": "aa414e67-1679-4f7b-bed2-bb100f800231",
   "metadata": {},
   "outputs": [
    {
     "data": {
      "text/html": [
       "<div>\n",
       "<style scoped>\n",
       "    .dataframe tbody tr th:only-of-type {\n",
       "        vertical-align: middle;\n",
       "    }\n",
       "\n",
       "    .dataframe tbody tr th {\n",
       "        vertical-align: top;\n",
       "    }\n",
       "\n",
       "    .dataframe thead th {\n",
       "        text-align: right;\n",
       "    }\n",
       "</style>\n",
       "<table border=\"1\" class=\"dataframe\">\n",
       "  <thead>\n",
       "    <tr style=\"text-align: right;\">\n",
       "      <th></th>\n",
       "      <th>Book Name</th>\n",
       "      <th>Author</th>\n",
       "      <th>language_code</th>\n",
       "      <th>Book_average_rating</th>\n",
       "      <th>Book_ratings_count</th>\n",
       "      <th>genre</th>\n",
       "      <th>sales rank</th>\n",
       "      <th>units sold</th>\n",
       "    </tr>\n",
       "  </thead>\n",
       "  <tbody>\n",
       "    <tr>\n",
       "      <th>0</th>\n",
       "      <td>96</td>\n",
       "      <td>661</td>\n",
       "      <td>1</td>\n",
       "      <td>3.42</td>\n",
       "      <td>155903</td>\n",
       "      <td>2</td>\n",
       "      <td>1</td>\n",
       "      <td>7000</td>\n",
       "    </tr>\n",
       "    <tr>\n",
       "      <th>1</th>\n",
       "      <td>84</td>\n",
       "      <td>204</td>\n",
       "      <td>1</td>\n",
       "      <td>4.23</td>\n",
       "      <td>145267</td>\n",
       "      <td>2</td>\n",
       "      <td>2</td>\n",
       "      <td>6250</td>\n",
       "    </tr>\n",
       "    <tr>\n",
       "      <th>2</th>\n",
       "      <td>276</td>\n",
       "      <td>235</td>\n",
       "      <td>1</td>\n",
       "      <td>3.31</td>\n",
       "      <td>138669</td>\n",
       "      <td>2</td>\n",
       "      <td>3</td>\n",
       "      <td>5500</td>\n",
       "    </tr>\n",
       "    <tr>\n",
       "      <th>3</th>\n",
       "      <td>948</td>\n",
       "      <td>152</td>\n",
       "      <td>1</td>\n",
       "      <td>4.04</td>\n",
       "      <td>150898</td>\n",
       "      <td>1</td>\n",
       "      <td>3</td>\n",
       "      <td>5500</td>\n",
       "    </tr>\n",
       "    <tr>\n",
       "      <th>4</th>\n",
       "      <td>164</td>\n",
       "      <td>407</td>\n",
       "      <td>1</td>\n",
       "      <td>4.04</td>\n",
       "      <td>198283</td>\n",
       "      <td>2</td>\n",
       "      <td>4</td>\n",
       "      <td>4750</td>\n",
       "    </tr>\n",
       "  </tbody>\n",
       "</table>\n",
       "</div>"
      ],
      "text/plain": [
       "   Book Name  Author  language_code  Book_average_rating  Book_ratings_count  \\\n",
       "0         96     661              1                 3.42              155903   \n",
       "1         84     204              1                 4.23              145267   \n",
       "2        276     235              1                 3.31              138669   \n",
       "3        948     152              1                 4.04              150898   \n",
       "4        164     407              1                 4.04              198283   \n",
       "\n",
       "   genre  sales rank  units sold  \n",
       "0      2           1        7000  \n",
       "1      2           2        6250  \n",
       "2      2           3        5500  \n",
       "3      1           3        5500  \n",
       "4      2           4        4750  "
      ]
     },
     "execution_count": 8,
     "metadata": {},
     "output_type": "execute_result"
    }
   ],
   "source": [
    "df.head()"
   ]
  },
  {
   "cell_type": "code",
   "execution_count": 9,
   "id": "59be29a2-83bd-4043-b0da-7fcea8299c1f",
   "metadata": {},
   "outputs": [
    {
     "name": "stdout",
     "output_type": "stream",
     "text": [
      "Total data size 998\n"
     ]
    }
   ],
   "source": [
    "print('Total data size',len(df))"
   ]
  },
  {
   "cell_type": "code",
   "execution_count": 10,
   "id": "b16ba558-bbd1-4f89-a79f-fd582c0003c8",
   "metadata": {},
   "outputs": [],
   "source": [
    "X_train, X_test = train_test_split(df,test_size=0.2,random_state=42)"
   ]
  },
  {
   "cell_type": "code",
   "execution_count": 11,
   "id": "384ec686-e572-4d89-94dc-57e03b7d2c48",
   "metadata": {},
   "outputs": [
    {
     "data": {
      "text/plain": [
       "((798, 8), (200, 8))"
      ]
     },
     "execution_count": 11,
     "metadata": {},
     "output_type": "execute_result"
    }
   ],
   "source": [
    "X_train.shape, X_test.shape"
   ]
  },
  {
   "cell_type": "code",
   "execution_count": 12,
   "id": "4baf5de4-e69d-4bb3-bd3e-b1e811d3a08b",
   "metadata": {},
   "outputs": [
    {
     "name": "stdout",
     "output_type": "stream",
     "text": [
      "798 200 998\n"
     ]
    }
   ],
   "source": [
    "class BookDataset(Dataset):\n",
    "    def __init__(self, df):\n",
    "        self.book_name = torch.tensor(df['Book Name'].values, dtype=torch.long)\n",
    "        self.author = torch.tensor(df['Author'].values, dtype=torch.long)\n",
    "        self.lang = torch.tensor(df['language_code'].values, dtype=torch.long)\n",
    "        self.ratings_count = torch.tensor(df['Book_ratings_count'].values, dtype=torch.long)\n",
    "        self.avg_rating = torch.tensor(df['Book_average_rating'].values, dtype=torch.float32)\n",
    "        self.genre = torch.tensor(df['genre'].values, dtype=torch.long)\n",
    "        self.sales_rank = torch.tensor(df['sales rank'].values, dtype=torch.long)\n",
    "        self.units_sold = torch.tensor(df['units sold'].values, dtype=torch.long)\n",
    "    def __len__(self):\n",
    "        return len(self.book_name)\n",
    "    def __getitem__(self, idx):\n",
    "        return (\n",
    "            self.book_name[idx], \n",
    "            self.author[idx], \n",
    "            self.lang[idx], \n",
    "            self.ratings_count[idx], \n",
    "            self.avg_rating[idx], \n",
    "            self.genre[idx], \n",
    "            self.sales_rank[idx],\n",
    "            self.units_sold[idx]\n",
    "        )\n",
    "\n",
    "train_dataset = BookDataset(X_train)\n",
    "test_dataset = BookDataset(X_test)\n",
    "\n",
    "train_loader = DataLoader(train_dataset, batch_size=64, shuffle=True)\n",
    "test_loader = DataLoader(test_dataset, batch_size=64, shuffle=False)\n",
    "print (len(train_dataset),len(test_dataset),len(train_dataset)+len(test_dataset))"
   ]
  },
  {
   "cell_type": "code",
   "execution_count": 13,
   "id": "0c0732fc-62d0-4fe0-aa0d-0219e4cbae76",
   "metadata": {},
   "outputs": [],
   "source": [
    "class BookRecommendationModel(nn.Module):\n",
    "    def __init__(self, num_books, num_authors, num_languages, num_genres):\n",
    "        super(BookRecommendationModel, self).__init__()\n",
    "        \n",
    "        self.book_embedding = nn.Embedding(num_books, 50)\n",
    "        self.author_embedding = nn.Embedding(num_authors, 10)\n",
    "        self.lang_embedding = nn.Embedding(num_languages, 5)\n",
    "        self.genre_embedding = nn.Embedding(num_genres, 10)\n",
    "        \n",
    "        self.fc1 = nn.Linear(50 + 10 + 5 + 10 + 1 + 1 + 1 + 1, 128)\n",
    "        self.fc2 = nn.Linear(128, 64)\n",
    "        self.fc3 = nn.Linear(64, 1)\n",
    "    \n",
    "    def forward(self, book, author, lang, ratings_count, avg_rating, genre, sales_rank, units_sold):\n",
    "        book_emb = self.book_embedding(book)\n",
    "        author_emb = self.author_embedding(author)\n",
    "        lang_emb = self.lang_embedding(lang)\n",
    "        #print(genre)\n",
    "\n",
    "        genre_emb = self.genre_embedding(genre)\n",
    "        \n",
    "        x = torch.cat([book_emb, author_emb, lang_emb, genre_emb, ratings_count.unsqueeze(1).float(), avg_rating.unsqueeze(1).float(), sales_rank.unsqueeze(1).float(), units_sold.unsqueeze(1).float()],dim=1)\n",
    "        x = F.relu(self.fc1(x))\n",
    "        x = F.relu(self.fc2(x))\n",
    "        embeddings = x\n",
    "        x = self.fc3(x)\n",
    "        return x, embeddings"
   ]
  },
  {
   "cell_type": "code",
   "execution_count": 14,
   "id": "16e4af7c-8496-4a20-b34d-9551c56f20d1",
   "metadata": {},
   "outputs": [
    {
     "name": "stdout",
     "output_type": "stream",
     "text": [
      "Epoch 1, Loss: 472205.212890625\n",
      "Epoch 2, Loss: 56907.460274916426\n",
      "Epoch 3, Loss: 21004.143334021934\n",
      "Epoch 4, Loss: 5428.708470271184\n",
      "Epoch 5, Loss: 1298.5066416813777\n",
      "Epoch 6, Loss: 367.51610213059644\n",
      "Epoch 7, Loss: 119.68659841097318\n",
      "Epoch 8, Loss: 52.37412012540377\n",
      "Epoch 9, Loss: 28.633227568406326\n",
      "Epoch 10, Loss: 23.594075276301457\n",
      "Epoch 11, Loss: 19.708483549264763\n",
      "Epoch 12, Loss: 18.261761371905987\n",
      "Epoch 13, Loss: 16.684018208430363\n",
      "Epoch 14, Loss: 15.496722514812763\n",
      "Epoch 15, Loss: 14.162885592533993\n",
      "Epoch 16, Loss: 13.413637821490948\n",
      "Epoch 17, Loss: 12.285075627840483\n",
      "Epoch 18, Loss: 11.168742106511043\n",
      "Epoch 19, Loss: 10.451807755690355\n",
      "Epoch 20, Loss: 9.935318543360783\n",
      "Epoch 21, Loss: 9.247640426342304\n",
      "Epoch 22, Loss: 8.564735632676344\n",
      "Epoch 23, Loss: 8.02027915074275\n",
      "Epoch 24, Loss: 7.508404181553767\n",
      "Epoch 25, Loss: 7.137778942401592\n",
      "Epoch 26, Loss: 6.8513395969684305\n",
      "Epoch 27, Loss: 6.7887276869553785\n",
      "Epoch 28, Loss: 6.453699882213886\n",
      "Epoch 29, Loss: 6.55537854708158\n",
      "Epoch 30, Loss: 5.762016626504751\n",
      "Epoch 31, Loss: 5.266753013317402\n",
      "Epoch 32, Loss: 5.063225452716534\n",
      "Epoch 33, Loss: 4.558294039506179\n",
      "Epoch 34, Loss: 4.240946879753699\n",
      "Epoch 35, Loss: 4.24418856547429\n",
      "Epoch 36, Loss: 4.002002569345327\n",
      "Epoch 37, Loss: 3.7009353637695312\n",
      "Epoch 38, Loss: 3.6878659541790304\n",
      "Epoch 39, Loss: 3.3625288743239183\n",
      "Epoch 40, Loss: 3.2540673109201284\n",
      "Epoch 41, Loss: 3.0606925120720496\n",
      "Epoch 42, Loss: 2.7971328038435717\n",
      "Epoch 43, Loss: 2.9135778500483585\n",
      "Epoch 44, Loss: 2.8804282591893124\n",
      "Epoch 45, Loss: 2.875076807462252\n",
      "Epoch 46, Loss: 2.676632184248704\n",
      "Epoch 47, Loss: 2.219439139732948\n",
      "Epoch 48, Loss: 2.463480335015517\n",
      "Epoch 49, Loss: 2.1754659597690287\n",
      "Epoch 50, Loss: 2.1979219179887037\n"
     ]
    }
   ],
   "source": [
    "'''\n",
    "in this order\n",
    "            self.book_name[idx], \n",
    "            self.author[idx], \n",
    "            self.lang[idx], \n",
    "            self.ratings_count[idx], \n",
    "            self.avg_rating[idx], \n",
    "            self.genre[idx], \n",
    "            self.sales_rank[idx],\n",
    "            self.units_sold[idx]\n",
    "'''\n",
    "\n",
    "num_books = df['Book Name'].nunique()\n",
    "num_authors = df['Author'].nunique()\n",
    "num_languages = df['language_code'].nunique()\n",
    "num_genres = df['genre'].nunique()\n",
    "\n",
    "model = BookRecommendationModel(num_books, num_authors, num_languages, num_genres)\n",
    "\n",
    "criterion = nn.MSELoss()\n",
    "optimizer = optim.Adam(model.parameters(), lr=0.001)\n",
    "costs = []\n",
    "def train_model(model, train_loader, criterion, optimizer, num_epochs=5):\n",
    "    model.train()\n",
    "    for epoch in range(num_epochs):\n",
    "        running_loss = 0.0\n",
    "        for book, author, lang, ratings_count, avg_rating, genre, sales_rank, units_sold in train_loader:\n",
    "            optimizer.zero_grad()\n",
    "            outputs, _ = model(book, author, lang, ratings_count, avg_rating, genre, sales_rank, units_sold)\n",
    "            loss = criterion(outputs.squeeze(), avg_rating.float())\n",
    "            loss.backward()\n",
    "            optimizer.step()\n",
    "            running_loss += loss.item()\n",
    "        print(f'Epoch {epoch+1}, Loss: {running_loss / len(train_loader)}')\n",
    "        \n",
    "train_model(model, train_loader, criterion, optimizer, num_epochs=50)"
   ]
  },
  {
   "cell_type": "code",
   "execution_count": 15,
   "id": "0684c3c8-f09d-4241-8ddf-5f0438b82edb",
   "metadata": {},
   "outputs": [
    {
     "name": "stdout",
     "output_type": "stream",
     "text": [
      "Test Loss: 1.974026471376419\n"
     ]
    }
   ],
   "source": [
    "def evaluate_model(model, test_loader):\n",
    "    model.eval()\n",
    "    with torch.no_grad():\n",
    "        test_loss = 0.0\n",
    "        for book, author, lang, ratings_count, avg_rating, genre, sales_rank, units_sold in test_loader:\n",
    "            outputs,embeddings  = model(book, author, lang, ratings_count, avg_rating, genre, sales_rank, units_sold)\n",
    "            loss = criterion(outputs.squeeze(), avg_rating.float())\n",
    "            test_loss += loss.item()\n",
    "    #print(\"Predicted score:\", outputs)\n",
    "    #print(\"Embeddings:\", embeddings)    \n",
    "    print(f'Test Loss: {test_loss / len(test_loader)}')\n",
    "evaluate_model(model, test_loader)"
   ]
  },
  {
   "cell_type": "code",
   "execution_count": 16,
   "id": "7015773e-cbfb-4d2e-a277-7224f6c60ee1",
   "metadata": {},
   "outputs": [
    {
     "name": "stdout",
     "output_type": "stream",
     "text": [
      "Recomming Books for: Bridget Jones: The Edge of Reason\n",
      "Recommended books:\n",
      "A Memory of Light\n",
      "The Story of Edgar Sawtelle\n",
      "The Age of Miracles\n",
      "All Creatures Great And Small\n",
      "Bridget Jones: The Edge of Reason\n"
     ]
    }
   ],
   "source": [
    "model.eval()\n",
    "all_embeddings = []\n",
    "with torch.no_grad():\n",
    "    for batch in test_loader:\n",
    "        book, author, lang, ratings_count, avg_rating, genre, sales_rank, units_sold = batch\n",
    "        _, embeddings = model(book, author, lang, ratings_count, avg_rating, genre, sales_rank, units_sold)\n",
    "        all_embeddings.append(embeddings)\n",
    "\n",
    "all_embeddings = torch.cat(all_embeddings, dim=0)\n",
    "\n",
    "num_clusters = 10\n",
    "kmeans = KMeans(n_clusters=num_clusters, random_state=0).fit(all_embeddings)\n",
    "clusters = kmeans.labels_\n",
    "def recommend_books(book_id, clusters, n_recommendations=5):\n",
    "    book_cluster = clusters[book_id]\n",
    "    cluster_books = [i for i, cluster in enumerate(clusters) if cluster == book_cluster]\n",
    "    #cluster_books.remove(book_id)\n",
    "    return cluster_books[:n_recommendations]\n",
    "\n",
    "\n",
    "book_id = random.randint(0, len(test_dataset) - 1)\n",
    "selected_book = test_dataset[book_id]\n",
    "\n",
    "# Replace with actual book ID\n",
    "recommended_books = recommend_books(book_id, clusters)\n",
    "\n",
    "print(\"Recomming Books for:\", book_id_to_name[selected_book[0].item()])\n",
    "print(\"Recommended books:\")\n",
    "for book in recommended_books:\n",
    "    print(book_id_to_name[test_dataset[book][0].item()])\n"
   ]
  },
  {
   "cell_type": "code",
   "execution_count": null,
   "id": "1a747df9-3bca-4873-86f1-9aeb21068a9f",
   "metadata": {},
   "outputs": [],
   "source": []
  },
  {
   "cell_type": "code",
   "execution_count": null,
   "id": "24b28447-5667-4d81-a09e-857f3c35c611",
   "metadata": {},
   "outputs": [],
   "source": []
  },
  {
   "cell_type": "code",
   "execution_count": null,
   "id": "3d4b967a-615f-4f35-8a51-ffa54bf1ecde",
   "metadata": {},
   "outputs": [],
   "source": []
  }
 ],
 "metadata": {
  "kernelspec": {
   "display_name": "Python 3 (ipykernel)",
   "language": "python",
   "name": "python3"
  },
  "language_info": {
   "codemirror_mode": {
    "name": "ipython",
    "version": 3
   },
   "file_extension": ".py",
   "mimetype": "text/x-python",
   "name": "python",
   "nbconvert_exporter": "python",
   "pygments_lexer": "ipython3",
   "version": "3.12.3"
  }
 },
 "nbformat": 4,
 "nbformat_minor": 5
}
